{
 "cells": [
  {
   "cell_type": "markdown",
   "metadata": {},
   "source": [
    "# Charpter8 Spark调优与调试"
   ]
  },
  {
   "cell_type": "code",
   "execution_count": 1,
   "metadata": {},
   "outputs": [],
   "source": [
    "from pyspark import SparkConf, SparkContext\n",
    "# sc = SparkContext(\"spark://10.5.110.240:7077\",\"DebugTest\")\n",
    "sc = SparkContext('local', 'DebugTest')"
   ]
  },
  {
   "cell_type": "code",
   "execution_count": 2,
   "metadata": {},
   "outputs": [],
   "source": [
    "import os"
   ]
  },
  {
   "cell_type": "code",
   "execution_count": 3,
   "metadata": {},
   "outputs": [
    {
     "data": {
      "text/plain": [
       "['INFO This is a info log 1',\n",
       " 'INFO Log 2',\n",
       " '',\n",
       " 'ERROR OMG,This is an error!!',\n",
       " \"WARN Don't worry , just a warn....\",\n",
       " '',\n",
       " '',\n",
       " '',\n",
       " '',\n",
       " 'ERROR Another error.',\n",
       " 'WARN warn again',\n",
       " 'INFO get an info.']"
      ]
     },
     "execution_count": 3,
     "metadata": {},
     "output_type": "execute_result"
    }
   ],
   "source": [
    "input = sc.textFile('file://' + os.path.abspath('.') + '/input.txt')\n",
    "input.collect()"
   ]
  },
  {
   "cell_type": "code",
   "execution_count": 7,
   "metadata": {},
   "outputs": [
    {
     "data": {
      "text/plain": [
       "[['INFO', 'This', 'is', 'a', 'info', 'log', '1'],\n",
       " ['INFO', 'Log', '2'],\n",
       " ['ERROR', 'OMG,This', 'is', 'an', 'error!!'],\n",
       " ['WARN', \"Don't\", 'worry', ',', 'just', 'a', 'warn....'],\n",
       " ['ERROR', 'Another', 'error.'],\n",
       " ['WARN', 'warn', 'again'],\n",
       " ['INFO', 'get', 'an', 'info.']]"
      ]
     },
     "execution_count": 7,
     "metadata": {},
     "output_type": "execute_result"
    }
   ],
   "source": [
    "words = input.map(lambda line: line.split(' ')).filter(lambda word: len(word) > 1)\n",
    "words.collect()"
   ]
  },
  {
   "cell_type": "code",
   "execution_count": 8,
   "metadata": {},
   "outputs": [
    {
     "data": {
      "text/plain": [
       "PythonRDD[9] at RDD at PythonRDD.scala:53"
      ]
     },
     "execution_count": 8,
     "metadata": {},
     "output_type": "execute_result"
    }
   ],
   "source": [
    "counts = words.map(lambda word: (word[0], 1)).reduceByKey(lambda x, y: x + y)\n",
    "counts.cache()"
   ]
  },
  {
   "cell_type": "code",
   "execution_count": 9,
   "metadata": {},
   "outputs": [
    {
     "data": {
      "text/plain": [
       "[('INFO', 3), ('ERROR', 2), ('WARN', 2)]"
      ]
     },
     "execution_count": 9,
     "metadata": {},
     "output_type": "execute_result"
    }
   ],
   "source": [
    "counts.collect()"
   ]
  }
 ],
 "metadata": {
  "hide_input": false,
  "kernelspec": {
   "display_name": "Python 3",
   "language": "python",
   "name": "python3"
  },
  "language_info": {
   "codemirror_mode": {
    "name": "ipython",
    "version": 3
   },
   "file_extension": ".py",
   "mimetype": "text/x-python",
   "name": "python",
   "nbconvert_exporter": "python",
   "pygments_lexer": "ipython3",
   "version": "3.6.8"
  },
  "toc": {
   "base_numbering": 1,
   "nav_menu": {},
   "number_sections": true,
   "sideBar": true,
   "skip_h1_title": false,
   "title_cell": "Table of Contents",
   "title_sidebar": "Contents",
   "toc_cell": false,
   "toc_position": {},
   "toc_section_display": true,
   "toc_window_display": true
  }
 },
 "nbformat": 4,
 "nbformat_minor": 1
}
