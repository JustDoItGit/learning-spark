{
 "cells": [
  {
   "cell_type": "markdown",
   "metadata": {},
   "source": [
    "# 数据读取与保存"
   ]
  },
  {
   "cell_type": "markdown",
   "metadata": {},
   "source": [
    "### 文件格式\n",
    "- 文本文件\n",
    "- JSON\n",
    "- CSV\n",
    "- SequenceFIle\n",
    "- Protocol buffers\n",
    "- 对象文件"
   ]
  },
  {
   "cell_type": "markdown",
   "metadata": {},
   "source": [
    "#### 读取文本文件"
   ]
  },
  {
   "cell_type": "code",
   "execution_count": 1,
   "metadata": {},
   "outputs": [],
   "source": [
    "from pyspark import SparkContext\n",
    "sc = SparkContext('local', 'FileReader')"
   ]
  },
  {
   "cell_type": "code",
   "execution_count": 3,
   "metadata": {
    "scrolled": true
   },
   "outputs": [],
   "source": [
    "import os\n",
    "currentPath = os.path.abspath('.')"
   ]
  },
  {
   "cell_type": "code",
   "execution_count": 11,
   "metadata": {},
   "outputs": [
    {
     "data": {
      "text/plain": [
       "['INFO This is a info log 1',\n",
       " 'INFO Log 2',\n",
       " '',\n",
       " 'ERROR OMG,This is an error!!',\n",
       " \"WARN Don't worry , just a warn....\",\n",
       " '',\n",
       " '',\n",
       " '',\n",
       " '',\n",
       " 'ERROR Another error.',\n",
       " 'WARN warn again',\n",
       " 'INFO get an info.',\n",
       " 'Quick Start',\n",
       " 'Interactive Analysis with the Spark Shell',\n",
       " 'Basics',\n",
       " 'More on RDD Operations',\n",
       " 'Caching',\n",
       " 'Self-Contained Applications',\n",
       " 'Where to Go from Here',\n",
       " 'This tutorial provides a quick introduction to using Spark. We will first introduce the API through Spark’s interactive shell (in Python or Scala), then show how to write applications in Java, Scala, and Python. See the programming guide for a more complete reference.',\n",
       " '',\n",
       " 'To follow along with this guide, first download a packaged release of Spark from the Spark website. Since we won’t be using HDFS, you can download a package for any version of Hadoop.',\n",
       " '',\n",
       " 'Interactive Analysis with the Spark Shell',\n",
       " 'Basics',\n",
       " 'Spark’s shell provides a simple way to learn the API, as well as a powerful tool to analyze data interactively. It is available in either Scala (which runs on the Java VM and is thus a good way to use existing Java libraries) or Python. Start it by running the following in the Spark directory:',\n",
       " '',\n",
       " 'Scala',\n",
       " 'Python',\n",
       " './bin/spark-shell',\n",
       " 'Spark’s primary abstraction is a distributed collection of items called a Resilient Distributed Dataset (RDD). RDDs can be created from Hadoop InputFormats (such as HDFS files) or by transforming other RDDs. Let’s make a new RDD from the text of the README file in the Spark source directory:',\n",
       " '',\n",
       " 'scala> val textFile = sc.textFile(\"README.md\")',\n",
       " 'textFile: spark.RDD[String] = spark.MappedRDD@2ee9b6e3',\n",
       " 'RDDs have actions, which return values, and transformations, which return pointers to new RDDs. Let’s start with a few actions:',\n",
       " '',\n",
       " 'scala> textFile.count() // Number of items in this RDD',\n",
       " 'res0: Long = 126',\n",
       " '',\n",
       " 'scala> textFile.first() // First item in this RDD',\n",
       " 'res1: String = # Apache Spark',\n",
       " 'Now let’s use a transformation. We will use the filter transformation to return a new RDD with a subset of the items in the file.',\n",
       " '',\n",
       " 'scala> val linesWithSpark = textFile.filter(line => line.contains(\"Spark\"))',\n",
       " 'linesWithSpark: spark.RDD[String] = spark.FilteredRDD@7dd4af09',\n",
       " 'We can chain together transformations and actions:',\n",
       " '',\n",
       " 'scala> textFile.filter(line => line.contains(\"Spark\")).count() // How many lines contain \"Spark\"?',\n",
       " 'res3: Long = 15',\n",
       " 'More on RDD Operations',\n",
       " 'RDD actions and transformations can be used for more complex computations. Let’s say we want to find the line with the most words:',\n",
       " '',\n",
       " 'Scala',\n",
       " 'Python',\n",
       " 'scala> textFile.map(line => line.split(\" \").size).reduce((a, b) => if (a > b) a else b)',\n",
       " 'res4: Long = 15',\n",
       " 'This first maps a line to an integer value, creating a new RDD. reduce is called on that RDD to find the largest line count. The arguments to map and reduce are Scala function literals (closures), and can use any language feature or Scala/Java library. For example, we can easily call functions declared elsewhere. We’ll use Math.max() function to make this code easier to understand:',\n",
       " '',\n",
       " 'scala> import java.lang.Math',\n",
       " 'import java.lang.Math',\n",
       " '',\n",
       " 'scala> textFile.map(line => line.split(\" \").size).reduce((a, b) => Math.max(a, b))',\n",
       " 'res5: Int = 15',\n",
       " 'One common data flow pattern is MapReduce, as popularized by Hadoop. Spark can implement MapReduce flows easily:',\n",
       " '',\n",
       " 'scala> val wordCounts = textFile.flatMap(line => line.split(\" \")).map(word => (word, 1)).reduceByKey((a, b) => a + b)',\n",
       " 'wordCounts: spark.RDD[(String, Int)] = spark.ShuffledAggregatedRDD@71f027b8',\n",
       " 'Here, we combined the flatMap, map, and reduceByKey transformations to compute the per-word counts in the file as an RDD of (String, Int) pairs. To collect the word counts in our shell, we can use the collect action:',\n",
       " '',\n",
       " 'scala> wordCounts.collect()',\n",
       " 'res6: Array[(String, Int)] = Array((means,1), (under,2), (this,3), (Because,1), (Python,2), (agree,1), (cluster.,1), ...)',\n",
       " 'Caching',\n",
       " 'Spark also supports pulling data sets into a cluster-wide in-memory cache. This is very useful when data is accessed repeatedly, such as when querying a small “hot” dataset or when running an iterative algorithm like PageRank. As a simple example, let’s mark our linesWithSpark dataset to be cached:',\n",
       " '',\n",
       " 'Scala',\n",
       " 'Python',\n",
       " 'scala> linesWithSpark.cache()',\n",
       " 'res7: spark.RDD[String] = spark.FilteredRDD@17e51082',\n",
       " '',\n",
       " 'scala> linesWithSpark.count()',\n",
       " 'res8: Long = 19',\n",
       " '',\n",
       " 'scala> linesWithSpark.count()',\n",
       " 'res9: Long = 19',\n",
       " 'It may seem silly to use Spark to explore and cache a 100-line text file. The interesting part is that these same functions can be used on very large data sets, even when they are striped across tens or hundreds of nodes. You can also do this interactively by connecting bin/spark-shell to a cluster, as described in the programming guide.',\n",
       " '',\n",
       " 'Self-Contained Applications',\n",
       " 'Suppose we wish to write a self-contained application using the Spark API. We will walk through a simple application in Scala (with sbt), Java (with Maven), and Python.',\n",
       " '',\n",
       " 'Scala',\n",
       " 'Java',\n",
       " 'Python',\n",
       " 'We’ll create a very simple Spark application in Scala–so simple, in fact, that it’s named SimpleApp.scala:',\n",
       " '',\n",
       " '/* SimpleApp.scala */',\n",
       " 'import org.apache.spark.SparkContext',\n",
       " 'import org.apache.spark.SparkContext._',\n",
       " 'import org.apache.spark.SparkConf',\n",
       " '',\n",
       " 'object SimpleApp {',\n",
       " '  def main(args: Array[String]) {',\n",
       " '    val logFile = \"YOUR_SPARK_HOME/README.md\" // Should be some file on your system',\n",
       " '    val conf = new SparkConf().setAppName(\"Simple Application\")',\n",
       " '    val sc = new SparkContext(conf)',\n",
       " '    val logData = sc.textFile(logFile, 2).cache()',\n",
       " '    val numAs = logData.filter(line => line.contains(\"a\")).count()',\n",
       " '    val numBs = logData.filter(line => line.contains(\"b\")).count()',\n",
       " '    println(\"Lines with a: %s, Lines with b: %s\".format(numAs, numBs))',\n",
       " '  }',\n",
       " '}',\n",
       " 'Note that applications should define a main() method instead of extending scala.App. Subclasses of scala.App may not work correctly.',\n",
       " '',\n",
       " 'This program just counts the number of lines containing ‘a’ and the number containing ‘b’ in the Spark README. Note that you’ll need to replace YOUR_SPARK_HOME with the location where Spark is installed. Unlike the earlier examples with the Spark shell, which initializes its own SparkContext, we initialize a SparkContext as part of the program.',\n",
       " '',\n",
       " 'We pass the SparkContext constructor a SparkConf object which contains information about our application.',\n",
       " '',\n",
       " 'Our application depends on the Spark API, so we’ll also include an sbt configuration file, simple.sbt, which explains that Spark is a dependency. This file also adds a repository that Spark depends on:',\n",
       " '',\n",
       " 'name := \"Simple Project\"',\n",
       " '',\n",
       " 'version := \"1.0\"',\n",
       " '',\n",
       " 'scalaVersion := \"2.10.5\"',\n",
       " '',\n",
       " 'libraryDependencies += \"org.apache.spark\" %% \"spark-core\" % \"1.6.2\"',\n",
       " 'For sbt to work correctly, we’ll need to layout SimpleApp.scala and simple.sbt according to the typical directory structure. Once that is in place, we can create a JAR package containing the application’s code, then use the spark-submit script to run our program.',\n",
       " '',\n",
       " '# Your directory layout should look like this',\n",
       " '$ find .',\n",
       " '.',\n",
       " './simple.sbt',\n",
       " './src',\n",
       " './src/main',\n",
       " './src/main/scala',\n",
       " './src/main/scala/SimpleApp.scala',\n",
       " '',\n",
       " '# Package a jar containing your application',\n",
       " '$ sbt package',\n",
       " '...',\n",
       " '[info] Packaging {..}/{..}/target/scala-2.10/simple-project_2.10-1.0.jar',\n",
       " '',\n",
       " '# Use spark-submit to run your application',\n",
       " '$ YOUR_SPARK_HOME/bin/spark-submit \\\\',\n",
       " '  --class \"SimpleApp\" \\\\',\n",
       " '  --master local[4] \\\\',\n",
       " '  target/scala-2.10/simple-project_2.10-1.0.jar',\n",
       " '...',\n",
       " 'Lines with a: 46, Lines with b: 23',\n",
       " 'Where to Go from Here',\n",
       " 'Congratulations on running your first Spark application!',\n",
       " '',\n",
       " 'For an in-depth overview of the API, start with the Spark programming guide, or see “Programming Guides” menu for other components.',\n",
       " 'For running applications on a cluster, head to the deployment overview.',\n",
       " 'Finally, Spark includes several samples in the examples directory (Scala, Java, Python, R). You can run them as follows:',\n",
       " '# For Scala and Java, use run-example:',\n",
       " './bin/run-example SparkPi',\n",
       " '',\n",
       " '# For Python examples, use spark-submit directly:',\n",
       " './bin/spark-submit examples/src/main/python/pi.py',\n",
       " '',\n",
       " '# For R examples, use spark-submit directly:',\n",
       " './bin/spark-submit examples/src/main/r/dataframe.R']"
      ]
     },
     "execution_count": 11,
     "metadata": {},
     "output_type": "execute_result"
    }
   ],
   "source": [
    "# 读取文件夹下所有文件\n",
    "inputRDD = sc.textFile('file://{}/MyBlog/*.txt'.format(currentPath))\n",
    "inputRDD.collect()"
   ]
  },
  {
   "cell_type": "code",
   "execution_count": 12,
   "metadata": {},
   "outputs": [
    {
     "data": {
      "text/plain": [
       "[('file:/Users/cool/OneDrive/002_projects/learning-spark/notes-sparkDataAnalysis/MyBlog/input.txt',\n",
       "  'INFO This is a info log 1\\nINFO Log 2\\n\\nERROR OMG,This is an e'),\n",
       " ('file:/Users/cool/OneDrive/002_projects/learning-spark/notes-sparkDataAnalysis/MyBlog/quickstart.txt',\n",
       "  'Quick Start\\nInt')]"
      ]
     },
     "execution_count": 12,
     "metadata": {},
     "output_type": "execute_result"
    }
   ],
   "source": [
    "# 读取文件夹，文件名为K，内容为V\n",
    "wholePairRDD = sc.wholeTextFiles('file://{}/MyBlog'.format(currentPath))\n",
    "partRDD = wholePairRDD.mapValues(lambda x: x[0: len(x) % 100])\n",
    "partRDD.collect()"
   ]
  },
  {
   "cell_type": "code",
   "execution_count": 16,
   "metadata": {
    "scrolled": true
   },
   "outputs": [
    {
     "data": {
      "text/plain": [
       "{'file:/Users/cool/OneDrive/002_projects/learning-spark/notes-sparkDataAnalysis/MyBlog/input.txt': \"INFO This is a info log 1\\nINFO Log 2\\n\\nERROR OMG,This is an error!!\\nWARN Don't worry , just a warn....\\n\\n\\n\\n\\nERROR Another error.\\nWARN warn again\\nINFO get an info.\",\n",
       " 'file:/Users/cool/OneDrive/002_projects/learning-spark/notes-sparkDataAnalysis/MyBlog/quickstart.txt': 'Quick Start\\nInteractive Analysis with the Spark Shell\\nBasics\\nMore on RDD Operations\\nCaching\\nSelf-Contained Applications\\nWhere to Go from Here\\nThis tutorial provides a quick introduction to using Spark. We will first introduce the API through Spark’s interactive shell (in Python or Scala), then show how to write applications in Java, Scala, and Python. See the programming guide for a more complete reference.\\n\\nTo follow along with this guide, first download a packaged release of Spark from the Spark website. Since we won’t be using HDFS, you can download a package for any version of Hadoop.\\n\\nInteractive Analysis with the Spark Shell\\nBasics\\nSpark’s shell provides a simple way to learn the API, as well as a powerful tool to analyze data interactively. It is available in either Scala (which runs on the Java VM and is thus a good way to use existing Java libraries) or Python. Start it by running the following in the Spark directory:\\n\\nScala\\nPython\\n./bin/spark-shell\\nSpark’s primary abstraction is a distributed collection of items called a Resilient Distributed Dataset (RDD). RDDs can be created from Hadoop InputFormats (such as HDFS files) or by transforming other RDDs. Let’s make a new RDD from the text of the README file in the Spark source directory:\\n\\nscala> val textFile = sc.textFile(\"README.md\")\\ntextFile: spark.RDD[String] = spark.MappedRDD@2ee9b6e3\\nRDDs have actions, which return values, and transformations, which return pointers to new RDDs. Let’s start with a few actions:\\n\\nscala> textFile.count() // Number of items in this RDD\\nres0: Long = 126\\n\\nscala> textFile.first() // First item in this RDD\\nres1: String = # Apache Spark\\nNow let’s use a transformation. We will use the filter transformation to return a new RDD with a subset of the items in the file.\\n\\nscala> val linesWithSpark = textFile.filter(line => line.contains(\"Spark\"))\\nlinesWithSpark: spark.RDD[String] = spark.FilteredRDD@7dd4af09\\nWe can chain together transformations and actions:\\n\\nscala> textFile.filter(line => line.contains(\"Spark\")).count() // How many lines contain \"Spark\"?\\nres3: Long = 15\\nMore on RDD Operations\\nRDD actions and transformations can be used for more complex computations. Let’s say we want to find the line with the most words:\\n\\nScala\\nPython\\nscala> textFile.map(line => line.split(\" \").size).reduce((a, b) => if (a > b) a else b)\\nres4: Long = 15\\nThis first maps a line to an integer value, creating a new RDD. reduce is called on that RDD to find the largest line count. The arguments to map and reduce are Scala function literals (closures), and can use any language feature or Scala/Java library. For example, we can easily call functions declared elsewhere. We’ll use Math.max() function to make this code easier to understand:\\n\\nscala> import java.lang.Math\\nimport java.lang.Math\\n\\nscala> textFile.map(line => line.split(\" \").size).reduce((a, b) => Math.max(a, b))\\nres5: Int = 15\\nOne common data flow pattern is MapReduce, as popularized by Hadoop. Spark can implement MapReduce flows easily:\\n\\nscala> val wordCounts = textFile.flatMap(line => line.split(\" \")).map(word => (word, 1)).reduceByKey((a, b) => a + b)\\nwordCounts: spark.RDD[(String, Int)] = spark.ShuffledAggregatedRDD@71f027b8\\nHere, we combined the flatMap, map, and reduceByKey transformations to compute the per-word counts in the file as an RDD of (String, Int) pairs. To collect the word counts in our shell, we can use the collect action:\\n\\nscala> wordCounts.collect()\\nres6: Array[(String, Int)] = Array((means,1), (under,2), (this,3), (Because,1), (Python,2), (agree,1), (cluster.,1), ...)\\nCaching\\nSpark also supports pulling data sets into a cluster-wide in-memory cache. This is very useful when data is accessed repeatedly, such as when querying a small “hot” dataset or when running an iterative algorithm like PageRank. As a simple example, let’s mark our linesWithSpark dataset to be cached:\\n\\nScala\\nPython\\nscala> linesWithSpark.cache()\\nres7: spark.RDD[String] = spark.FilteredRDD@17e51082\\n\\nscala> linesWithSpark.count()\\nres8: Long = 19\\n\\nscala> linesWithSpark.count()\\nres9: Long = 19\\nIt may seem silly to use Spark to explore and cache a 100-line text file. The interesting part is that these same functions can be used on very large data sets, even when they are striped across tens or hundreds of nodes. You can also do this interactively by connecting bin/spark-shell to a cluster, as described in the programming guide.\\n\\nSelf-Contained Applications\\nSuppose we wish to write a self-contained application using the Spark API. We will walk through a simple application in Scala (with sbt), Java (with Maven), and Python.\\n\\nScala\\nJava\\nPython\\nWe’ll create a very simple Spark application in Scala–so simple, in fact, that it’s named SimpleApp.scala:\\n\\n/* SimpleApp.scala */\\nimport org.apache.spark.SparkContext\\nimport org.apache.spark.SparkContext._\\nimport org.apache.spark.SparkConf\\n\\nobject SimpleApp {\\n  def main(args: Array[String]) {\\n    val logFile = \"YOUR_SPARK_HOME/README.md\" // Should be some file on your system\\n    val conf = new SparkConf().setAppName(\"Simple Application\")\\n    val sc = new SparkContext(conf)\\n    val logData = sc.textFile(logFile, 2).cache()\\n    val numAs = logData.filter(line => line.contains(\"a\")).count()\\n    val numBs = logData.filter(line => line.contains(\"b\")).count()\\n    println(\"Lines with a: %s, Lines with b: %s\".format(numAs, numBs))\\n  }\\n}\\nNote that applications should define a main() method instead of extending scala.App. Subclasses of scala.App may not work correctly.\\n\\nThis program just counts the number of lines containing ‘a’ and the number containing ‘b’ in the Spark README. Note that you’ll need to replace YOUR_SPARK_HOME with the location where Spark is installed. Unlike the earlier examples with the Spark shell, which initializes its own SparkContext, we initialize a SparkContext as part of the program.\\n\\nWe pass the SparkContext constructor a SparkConf object which contains information about our application.\\n\\nOur application depends on the Spark API, so we’ll also include an sbt configuration file, simple.sbt, which explains that Spark is a dependency. This file also adds a repository that Spark depends on:\\n\\nname := \"Simple Project\"\\n\\nversion := \"1.0\"\\n\\nscalaVersion := \"2.10.5\"\\n\\nlibraryDependencies += \"org.apache.spark\" %% \"spark-core\" % \"1.6.2\"\\nFor sbt to work correctly, we’ll need to layout SimpleApp.scala and simple.sbt according to the typical directory structure. Once that is in place, we can create a JAR package containing the application’s code, then use the spark-submit script to run our program.\\n\\n# Your directory layout should look like this\\n$ find .\\n.\\n./simple.sbt\\n./src\\n./src/main\\n./src/main/scala\\n./src/main/scala/SimpleApp.scala\\n\\n# Package a jar containing your application\\n$ sbt package\\n...\\n[info] Packaging {..}/{..}/target/scala-2.10/simple-project_2.10-1.0.jar\\n\\n# Use spark-submit to run your application\\n$ YOUR_SPARK_HOME/bin/spark-submit \\\\\\n  --class \"SimpleApp\" \\\\\\n  --master local[4] \\\\\\n  target/scala-2.10/simple-project_2.10-1.0.jar\\n...\\nLines with a: 46, Lines with b: 23\\nWhere to Go from Here\\nCongratulations on running your first Spark application!\\n\\nFor an in-depth overview of the API, start with the Spark programming guide, or see “Programming Guides” menu for other components.\\nFor running applications on a cluster, head to the deployment overview.\\nFinally, Spark includes several samples in the examples directory (Scala, Java, Python, R). You can run them as follows:\\n# For Scala and Java, use run-example:\\n./bin/run-example SparkPi\\n\\n# For Python examples, use spark-submit directly:\\n./bin/spark-submit examples/src/main/python/pi.py\\n\\n# For R examples, use spark-submit directly:\\n./bin/spark-submit examples/src/main/r/dataframe.R'}"
      ]
     },
     "execution_count": 16,
     "metadata": {},
     "output_type": "execute_result"
    }
   ],
   "source": [
    "wholePairRDD.collectAsMap()"
   ]
  },
  {
   "cell_type": "code",
   "execution_count": 17,
   "metadata": {},
   "outputs": [],
   "source": [
    "# 保存RDD到本地文件\n",
    "partRDD.saveAsTextFile('file://{}/MyBlog/pair'.format(currentPath))"
   ]
  },
  {
   "cell_type": "markdown",
   "metadata": {},
   "source": [
    "#### JSON"
   ]
  },
  {
   "cell_type": "code",
   "execution_count": 18,
   "metadata": {
    "scrolled": true
   },
   "outputs": [
    {
     "data": {
      "text/plain": [
       "[('file:/Users/cool/OneDrive/002_projects/learning-spark/notes-sparkDataAnalysis/testweet.json',\n",
       "  {'createdAt': 'Nov 4, 2014 4:56:59 PM',\n",
       "   'id': 529799371026485248,\n",
       "   'text': 'Adventures With Coffee, Code, and Writing.',\n",
       "   'source': '<a href=\"http://twitter.com\" rel=\"nofollow\">Twitter Web Client</a>',\n",
       "   'isTruncated': False,\n",
       "   'inReplyToStatusId': -1,\n",
       "   'inReplyToUserId': -1,\n",
       "   'isFavorited': False,\n",
       "   'retweetCount': 0,\n",
       "   'isPossiblySensitive': False,\n",
       "   'contributorsIDs': [],\n",
       "   'userMentionEntities': [],\n",
       "   'urlEntities': [],\n",
       "   'hashtagEntities': [],\n",
       "   'mediaEntities': [],\n",
       "   'currentUserRetweetId': -1,\n",
       "   'user': {'id': 15594928,\n",
       "    'name': 'Holden Karau',\n",
       "    'screenName': 'holdenkarau',\n",
       "    'location': '',\n",
       "    'description': '',\n",
       "    'descriptionURLEntities': [],\n",
       "    'isContributorsEnabled': False,\n",
       "    'profileImageUrl': 'http://pbs.twimg.com/profile_images/3005696115/2036374bbadbed85249cdd50aac6e170_normal.jpeg',\n",
       "    'profileImageUrlHttps': 'https://pbs.twimg.com/profile_images/3005696115/2036374bbadbed85249cdd50aac6e170_normal.jpeg',\n",
       "    'isProtected': False,\n",
       "    'followersCount': 1231,\n",
       "    'profileBackgroundColor': 'C0DEED',\n",
       "    'profileTextColor': '333333',\n",
       "    'profileLinkColor': '0084B4',\n",
       "    'profileSidebarFillColor': 'DDEEF6',\n",
       "    'profileSidebarBorderColor': 'FFFFFF',\n",
       "    'profileUseBackgroundImage': True,\n",
       "    'showAllInlineMedia': False,\n",
       "    'friendsCount': 600,\n",
       "    'createdAt': 'Aug 5, 2011 9:42:44 AM',\n",
       "    'favouritesCount': 1095,\n",
       "    'utcOffset': -3,\n",
       "    'profileBackgroundImageUrl': '',\n",
       "    'profileBackgroundImageUrlHttps': '',\n",
       "    'profileBannerImageUrl': '',\n",
       "    'profileBackgroundTiled': True,\n",
       "    'lang': 'en',\n",
       "    'statusesCount': 6234,\n",
       "    'isGeoEnabled': True,\n",
       "    'isVerified': False,\n",
       "    'translator': False,\n",
       "    'listedCount': 0,\n",
       "    'isFollowRequestSent': False}})]"
      ]
     },
     "execution_count": 18,
     "metadata": {},
     "output_type": "execute_result"
    }
   ],
   "source": [
    "import json\n",
    "jsonRDD = sc.wholeTextFiles('file://{}/testweet.json'.format(currentPath))\n",
    "data = jsonRDD.mapValues(lambda x: json.loads(x))\n",
    "data.collect()"
   ]
  },
  {
   "cell_type": "code",
   "execution_count": 21,
   "metadata": {},
   "outputs": [
    {
     "data": {
      "text/plain": [
       "{'panda': 1, 'banana': 2, 'monkey': 3}"
      ]
     },
     "execution_count": 21,
     "metadata": {},
     "output_type": "execute_result"
    }
   ],
   "source": [
    "# 数据以Json形式存储\n",
    "pairRDD = sc.parallelize([[\"panda\",1],[\"banana\",2],[\"monkey\",3]])\n",
    "pairRDD.collectAsMap()"
   ]
  },
  {
   "cell_type": "code",
   "execution_count": 22,
   "metadata": {},
   "outputs": [
    {
     "data": {
      "text/plain": [
       "['[\"panda\", 1]']"
      ]
     },
     "execution_count": 22,
     "metadata": {},
     "output_type": "execute_result"
    }
   ],
   "source": [
    "jsonRDD = pairRDD.filter(lambda x: x[0] == 'panda').map(lambda x: json.dumps(x))\n",
    "jsonRDD.collect()"
   ]
  },
  {
   "cell_type": "code",
   "execution_count": 23,
   "metadata": {},
   "outputs": [],
   "source": [
    "jsonRDD.saveAsTextFile('file://{}/jsonRDD.json'.format(currentPath))"
   ]
  },
  {
   "cell_type": "markdown",
   "metadata": {},
   "source": [
    "### 文件系统"
   ]
  },
  {
   "cell_type": "markdown",
   "metadata": {},
   "source": [
    "#### Hive JSON HDFS"
   ]
  },
  {
   "cell_type": "code",
   "execution_count": 24,
   "metadata": {},
   "outputs": [],
   "source": [
    "from pyspark.sql import HiveContext\n",
    "hiveCtx = HiveContext(sc)"
   ]
  },
  {
   "cell_type": "code",
   "execution_count": 25,
   "metadata": {},
   "outputs": [
    {
     "data": {
      "text/plain": [
       "['{\"user\":{\"name\":\"Niko\",\"age\":\"15\"},\"text\":\"I love big data\"}',\n",
       " '{\"user\":{\"name\":\"Helen\",\"age\":\"25\"},\"text\":\"I love MachineLearning\"}']"
      ]
     },
     "execution_count": 25,
     "metadata": {},
     "output_type": "execute_result"
    }
   ],
   "source": [
    "json = sc.textFile('file://{}/hive.json'.format(currentPath))\n",
    "json.collect()"
   ]
  },
  {
   "cell_type": "code",
   "execution_count": 28,
   "metadata": {},
   "outputs": [
    {
     "data": {
      "text/plain": [
       "[Row(name='Niko'), Row(name='Helen')]"
      ]
     },
     "execution_count": 28,
     "metadata": {},
     "output_type": "execute_result"
    }
   ],
   "source": [
    "contract = hiveCtx.read.json('file://{}/hive.json'.format(currentPath))\n",
    "contract.registerTempTable('contract')\n",
    "results = hiveCtx.sql('select user.name from contract')\n",
    "results.collect()"
   ]
  },
  {
   "cell_type": "code",
   "execution_count": 104,
   "metadata": {},
   "outputs": [
    {
     "name": "stderr",
     "output_type": "stream",
     "text": [
      "/Users/lixiwei-mac/app/spark-1.6.0-bin-hadoop2.6/python/pyspark/sql/context.py:481: UserWarning: jsonFile is deprecated. Use read.json() instead.\n",
      "  warnings.warn(\"jsonFile is deprecated. Use read.json() instead.\")\n"
     ]
    },
    {
     "data": {
      "text/plain": [
       "[Row(name='Niko'), Row(name='Helen')]"
      ]
     },
     "execution_count": 104,
     "metadata": {},
     "output_type": "execute_result"
    }
   ],
   "source": [
    "# 这是1.6版本的，注意更改\n",
    "contract = hiveCtx.jsonFile(\"file://\" + os.path.abspath(\".\") + \"/hive.json\")\n",
    "contract.registerTempTable(\"contract\")\n",
    "results = hiveCtx.sql(\"select user.name from contract\")\n",
    "results.collect()"
   ]
  }
 ],
 "metadata": {
  "hide_input": false,
  "kernelspec": {
   "display_name": "Python 3",
   "language": "python",
   "name": "python3"
  },
  "language_info": {
   "codemirror_mode": {
    "name": "ipython",
    "version": 3
   },
   "file_extension": ".py",
   "mimetype": "text/x-python",
   "name": "python",
   "nbconvert_exporter": "python",
   "pygments_lexer": "ipython3",
   "version": "3.6.8"
  },
  "toc": {
   "base_numbering": 1,
   "nav_menu": {},
   "number_sections": true,
   "sideBar": true,
   "skip_h1_title": false,
   "title_cell": "Table of Contents",
   "title_sidebar": "Contents",
   "toc_cell": false,
   "toc_position": {},
   "toc_section_display": true,
   "toc_window_display": true
  }
 },
 "nbformat": 4,
 "nbformat_minor": 1
}
